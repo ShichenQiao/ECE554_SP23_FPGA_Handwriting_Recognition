{
 "cells": [
  {
   "cell_type": "code",
   "execution_count": 1,
   "id": "381f3144",
   "metadata": {
    "scrolled": true
   },
   "outputs": [
    {
     "name": "stdout",
     "output_type": "stream",
     "text": [
      "Defaulting to user installation because normal site-packages is not writeable\n",
      "Requirement already satisfied: torchvision in c:\\users\\liuq\\appdata\\roaming\\python\\python39\\site-packages (0.15.1)\n",
      "Requirement already satisfied: requests in c:\\programdata\\anaconda3\\lib\\site-packages (from torchvision) (2.28.1)\n",
      "Requirement already satisfied: numpy in c:\\programdata\\anaconda3\\lib\\site-packages (from torchvision) (1.21.5)\n",
      "Requirement already satisfied: torch==2.0.0 in c:\\users\\liuq\\appdata\\roaming\\python\\python39\\site-packages (from torchvision) (2.0.0)\n",
      "Requirement already satisfied: pillow!=8.3.*,>=5.3.0 in c:\\programdata\\anaconda3\\lib\\site-packages (from torchvision) (9.2.0)\n",
      "Requirement already satisfied: filelock in c:\\programdata\\anaconda3\\lib\\site-packages (from torch==2.0.0->torchvision) (3.6.0)\n",
      "Requirement already satisfied: sympy in c:\\programdata\\anaconda3\\lib\\site-packages (from torch==2.0.0->torchvision) (1.11.1)\n",
      "Requirement already satisfied: networkx in c:\\programdata\\anaconda3\\lib\\site-packages (from torch==2.0.0->torchvision) (2.8.4)\n",
      "Requirement already satisfied: typing-extensions in c:\\programdata\\anaconda3\\lib\\site-packages (from torch==2.0.0->torchvision) (4.3.0)\n",
      "Requirement already satisfied: jinja2 in c:\\programdata\\anaconda3\\lib\\site-packages (from torch==2.0.0->torchvision) (2.11.3)\n",
      "Requirement already satisfied: certifi>=2017.4.17 in c:\\programdata\\anaconda3\\lib\\site-packages (from requests->torchvision) (2022.9.24)\n",
      "Requirement already satisfied: idna<4,>=2.5 in c:\\programdata\\anaconda3\\lib\\site-packages (from requests->torchvision) (3.4)\n",
      "Requirement already satisfied: urllib3<1.27,>=1.21.1 in c:\\programdata\\anaconda3\\lib\\site-packages (from requests->torchvision) (1.26.12)\n",
      "Requirement already satisfied: charset-normalizer<3,>=2 in c:\\programdata\\anaconda3\\lib\\site-packages (from requests->torchvision) (2.0.4)\n",
      "Requirement already satisfied: MarkupSafe>=0.23 in c:\\programdata\\anaconda3\\lib\\site-packages (from jinja2->torch==2.0.0->torchvision) (2.0.1)\n",
      "Requirement already satisfied: mpmath>=0.19 in c:\\programdata\\anaconda3\\lib\\site-packages (from sympy->torch==2.0.0->torchvision) (1.2.1)\n",
      "Note: you may need to restart the kernel to use updated packages.\n"
     ]
    }
   ],
   "source": [
    "%pip install torchvision"
   ]
  },
  {
   "cell_type": "code",
   "execution_count": 2,
   "id": "9bf98f89",
   "metadata": {},
   "outputs": [],
   "source": [
    "# python imports\n",
    "import os\n",
    "from tqdm import tqdm\n",
    "\n",
    "# torch imports\n",
    "import torch\n",
    "import torch.nn as nn\n",
    "import torch.optim as optim\n",
    "import torch.nn.functional as F\n",
    "\n",
    "# helper functions for computer vision\n",
    "import torchvision\n",
    "import torchvision.transforms as transforms\n",
    "import torchvision.datasets\n",
    "\n",
    "import argparse\n",
    "\n",
    "import scipy.io\n",
    "\n",
    "import matplotlib.pyplot as plt\n",
    "import numpy as np\n",
    "\n",
    "os.environ['KMP_DUPLICATE_LIB_OK'] = 'True'"
   ]
  },
  {
   "cell_type": "code",
   "execution_count": 3,
   "id": "7b8403a6-9f31-4d04-a2c3-9ab7296fbcd6",
   "metadata": {},
   "outputs": [],
   "source": [
    "# Import MNIST\n",
    "\n",
    "from torchvision.datasets import EMNIST\n",
    "#torchvision.datasets.EMNIST()\n",
    "# Download and Save MNIST \n",
    "digits_train = EMNIST( './emnist_data', train=True, split=\"mnist\", download=True, transform = transforms.Compose([transforms.ToTensor(),\n",
    "                                                                                                                  transforms.RandomCrop(size = 32, padding = 2, fill=0), \n",
    "                                                                                                                  lambda img: torchvision.transforms.functional.rotate(img, -90),\n",
    "                                                                                                                  lambda img: torchvision.transforms.functional.hflip(img)]))\n",
    "digits_train_large = EMNIST( './emnist_data', train=True, split=\"digits\", download=True, transform = transforms.Compose([transforms.ToTensor(),\n",
    "                                                                                                                         transforms.RandomCrop(size = 32, padding = 2, fill=0),\n",
    "                                                                                                                         lambda img: torchvision.transforms.functional.rotate(img, -90),\n",
    "                                                                                                                         lambda img: torchvision.transforms.functional.hflip(img)]))\n",
    "letters_train = EMNIST( './emnist_data', train=True, split=\"letters\", download=True, transform = transforms.Compose([transforms.ToTensor(),\n",
    "                                                                                                                     transforms.RandomCrop(size = 32, padding = 2, fill=0),\n",
    "                                                                                                                     lambda img: torchvision.transforms.functional.rotate(img, -90),\n",
    "                                                                                                                     lambda img: torchvision.transforms.functional.hflip(img)]))\n",
    "letters_train.targets += 9\n",
    "\n",
    "digits_test = EMNIST( './emnist_data', train=False, split=\"mnist\", download=True, transform = transforms.Compose([transforms.ToTensor(),\n",
    "                                                                                                                  transforms.RandomCrop(size = 32, padding = 2, fill=0), \n",
    "                                                                                                                  lambda img: torchvision.transforms.functional.rotate(img, -90),\n",
    "                                                                                                                  lambda img: torchvision.transforms.functional.hflip(img)]))\n",
    "digits_test_large = EMNIST( './emnist_data', train=False, split=\"digits\", download=True, transform = transforms.Compose([transforms.ToTensor(),\n",
    "                                                                                                                         transforms.RandomCrop(size = 32, padding = 2, fill=0),\n",
    "                                                                                                                         lambda img: torchvision.transforms.functional.rotate(img, -90),\n",
    "                                                                                                                         lambda img: torchvision.transforms.functional.hflip(img)]))\n",
    "letters_test = EMNIST( './emnist_data', train=False, split=\"letters\", download=True, transform = transforms.Compose([transforms.ToTensor(),\n",
    "                                                                                                                     transforms.RandomCrop(size = 32, padding = 2, fill=0),\n",
    "                                                                                                                     lambda img: torchvision.transforms.functional.rotate(img, -90),\n",
    "                                                                                                                     lambda img: torchvision.transforms.functional.hflip(img)]))\n",
    "letters_test.targets += 9\n",
    "\n",
    "#comb_train = torch.utils.data.ConcatDataset([digits_train,letters_train])\n",
    "comb_train = digits_train_large\n",
    "#comb_test = torch.utils.data.ConcatDataset([digits_test,letters_test])\n",
    "comb_test = digits_test_large\n",
    "#data_train = torch.utils.data.DataLoader(comb_train , batch_size=128,shuffle=True )\n",
    "\n",
    "#data_test = torch.utils.data.DataLoader( comb_test , batch_size=128,shuffle=True )\n",
    "#for batch_idx, samples in enumerate(data_train):\n",
    "    #print(batch_idx, samples)"
   ]
  },
  {
   "cell_type": "code",
   "execution_count": 4,
   "id": "12cc93f0",
   "metadata": {},
   "outputs": [
    {
     "data": {
      "text/plain": [
       "torch.Size([32, 32])"
      ]
     },
     "execution_count": 4,
     "metadata": {},
     "output_type": "execute_result"
    }
   ],
   "source": [
    "comb_train[5][0][0].shape"
   ]
  },
  {
   "cell_type": "code",
   "execution_count": 5,
   "id": "be603b3c",
   "metadata": {},
   "outputs": [],
   "source": [
    "# for i in range(len(comb_train)):\n",
    "#     temp = list(comb_train[i])\n",
    "#     temp_matrix = temp[0][0].clone().T\n",
    "#     temp[0][0] = temp_matrix\n",
    "#     comb_train[i] = tuple(temp)"
   ]
  },
  {
   "cell_type": "code",
   "execution_count": 7,
   "id": "7a32dd70",
   "metadata": {},
   "outputs": [
    {
     "data": {
      "text/plain": [
       "<matplotlib.image.AxesImage at 0x20db76f9eb0>"
      ]
     },
     "execution_count": 7,
     "metadata": {},
     "output_type": "execute_result"
    },
    {
     "data": {
      "image/png": "[encoded data removed]",
      "text/plain": [
       "<Figure size 100x100 with 1 Axes>"
      ]
     },
     "metadata": {},
     "output_type": "display_data"
    }
   ],
   "source": [
    "figure = plt.figure(figsize=(1, 1))\n",
    "cols, rows = 1, 1\n",
    "sample_idx = 5\n",
    "img, label = comb_test[sample_idx]\n",
    "figure.add_subplot(rows, cols, 1)\n",
    "plt.title(label) \n",
    "plt.axis(\"off\")\n",
    "plt.imshow(img.view(32,32), cmap=\"gray\")\n",
    "#plt.show()"
   ]
  },
  {
   "cell_type": "code",
   "execution_count": 8,
   "id": "80377fec-fabb-4a1f-b028-3b0b4f7921a4",
   "metadata": {},
   "outputs": [
    {
     "data": {
      "image/png": "[encoded data removed]",
      "text/plain": [
       "<Figure size 800x800 with 9 Axes>"
      ]
     },
     "metadata": {},
     "output_type": "display_data"
    }
   ],
   "source": [
    "figure = plt.figure(figsize=(8, 8))\n",
    "cols, rows = 3, 3\n",
    "for i in range(1, cols * rows + 1):\n",
    "    sample_idx = torch.randint(len(comb_test), size=(1,)).item()\n",
    "    img, label = comb_test[sample_idx]\n",
    "    figure.add_subplot(rows, cols, i)\n",
    "    plt.title(label) \n",
    "    plt.axis(\"off\")\n",
    "    plt.imshow(img.view(32,32), cmap=\"gray\")\n",
    "#plt.show()"
   ]
  },
  {
   "cell_type": "code",
   "execution_count": 60,
   "id": "a7022915",
   "metadata": {},
   "outputs": [],
   "source": [
    "class LeNet(nn.Module):\n",
    "    def __init__(self, input_shape=(32, 32), num_classes=10):\n",
    "        super(LeNet, self).__init__()\n",
    "        # certain definitions\n",
    "        self.num_classes = num_classes\n",
    "        self.input_shape = input_shape\n",
    "        self.conv1 = nn.Conv2d(1,6,5, bias=False)\n",
    "        self.conv2 = nn.Conv2d(6,16,5, bias=False)\n",
    "        self.lin1 = nn.Linear(400,120, bias=False)\n",
    "        # self.lin1 = nn.Linear(784,64)\n",
    "        self.lin2 = nn.Linear(120,84, bias=False)\n",
    "        self.lin3 = nn.Linear(84,num_classes, bias=False)\n",
    "        \n",
    "    def forward(self, x):\n",
    "        shape_dict = {}\n",
    "        '''        \n",
    "        # neuron network\n",
    "        #Layer3\n",
    "        x = torch.flatten(x,1)\n",
    "        shape_dict[1] = list(x.size())\n",
    "        #Layer4\n",
    "        x = F.relu(self.lin1(x))\n",
    "        shape_dict[2] = list(x.size())\n",
    "        #Layer5\n",
    "        # x = F.relu(self.lin2(x))\n",
    "        # shape_dict[3] = list(x.size())\n",
    "        #Layer6\n",
    "        out = self.lin2(x)\n",
    "        shape_dict[3] = list(out.size())\n",
    "        # out = self.lin3(x)\n",
    "        # shape_dict[4] = list(out.size())\n",
    "        '''\n",
    "        # CNN\n",
    "        #Layer1\n",
    "        x = F.avg_pool2d(F.relu(self.conv1(x)),kernel_size=2,stride=2)\n",
    "        shape_dict[1] = list(x.size())\n",
    "        #Layer2\n",
    "        x = F.avg_pool2d(F.relu(self.conv2(x)),kernel_size=2,stride=2)\n",
    "        shape_dict[2] = list(x.size())\n",
    "        #Layer3\n",
    "        x = torch.flatten(x,1)\n",
    "        shape_dict[3] = list(x.size())\n",
    "        #Layer4\n",
    "        x = F.relu(self.lin1(x))\n",
    "        shape_dict[4] = list(x.size())\n",
    "        #Layer5\n",
    "        x = F.relu(self.lin2(x))\n",
    "        shape_dict[5] = list(x.size())\n",
    "        #Layer6\n",
    "        out = self.lin3(x)\n",
    "        shape_dict[6] = list(out.size())\n",
    "\n",
    "\n",
    "        return out, shape_dict\n",
    "\n",
    "\n",
    "def count_model_params():\n",
    "    '''\n",
    "    return the number of trainable parameters of LeNet.\n",
    "    '''\n",
    "    model = LeNet()\n",
    "    model_params = 0.0\n",
    "    for name, param in model.named_parameters():\n",
    "        temp_result = 1\n",
    "        for each in param.size():\n",
    "            temp_result = temp_result*each\n",
    "        model_params += temp_result\n",
    "    return model_params/1000000\n",
    "\n",
    "\n",
    "def train_model(model, train_loader, optimizer, criterion, epoch):\n",
    "    \"\"\"\n",
    "    model (torch.nn.module): The model created to train\n",
    "    train_loader (pytorch data loader): Training data loader\n",
    "    optimizer (optimizer.*): A instance of some sort of optimizer, usually SGD\n",
    "    criterion (nn.CrossEntropyLoss) : Loss function used to train the network\n",
    "    epoch (int): Current epoch number\n",
    "    \"\"\"\n",
    "    device = torch.device('cuda' if torch.cuda.is_available() else 'cpu')\n",
    "    model.to(device)\n",
    "    model.train()\n",
    "    train_loss = 0.0\n",
    "    \n",
    "    for input, target in tqdm(train_loader, total=len(train_loader)):\n",
    "        ###################################\n",
    "        # fill in the standard training loop of forward pass,\n",
    "        # backward pass, loss computation and optimizer step\n",
    "        ###################################\n",
    "        #might want to fix later TODO\n",
    "        input = input.to(device)\n",
    "        target = target.to(device)\n",
    "        \n",
    "        # 1) zero the parameter gradients\n",
    "        optimizer.zero_grad()\n",
    "        # 2) forward + backward + optimize\n",
    "        output, _ = model(input)\n",
    "        loss = criterion(output, target)\n",
    "        loss.backward()\n",
    "        optimizer.step()\n",
    "\n",
    "        # Update the train_loss variable\n",
    "        # .item() detaches the node from the computational graph\n",
    "        # Uncomment the below line after you fill block 1 and 2\n",
    "        train_loss += loss.item()\n",
    "\n",
    "    train_loss /= len(train_loader)\n",
    "    print('[Training set] Epoch: {:d}, Average loss: {:.4f}'.format(epoch+1, train_loss))\n",
    "\n",
    "    return train_loss\n",
    "\n",
    "\n",
    "def test_model(model, test_loader, epoch):\n",
    "    device = torch.device('cuda' if torch.cuda.is_available() else 'cpu')\n",
    "    model.to(device)\n",
    "    model.eval()\n",
    "    correct = 0\n",
    "    with torch.no_grad():\n",
    "        for input, target in test_loader:\n",
    "            input = input.to(device)\n",
    "            target = target.to(device)\n",
    "            output, _ = model(input)\n",
    "            pred = output.max(1, keepdim=True)[1]\n",
    "            correct += pred.eq(target.view_as(pred)).sum().item()\n",
    "\n",
    "    test_acc = correct / len(test_loader.dataset)\n",
    "    print('[Test set] Epoch: {:d}, Accuracy: {:.2f}%\\n'.format(\n",
    "        epoch+1, 100. * test_acc))\n",
    "\n",
    "    return test_acc\n"
   ]
  },
  {
   "cell_type": "code",
   "execution_count": 61,
   "id": "e94d901a",
   "metadata": {},
   "outputs": [],
   "source": [
    "def save_checkpoint(state, is_best,\n",
    "                    file_folder=\"./outputs/\",\n",
    "                    filename='checkpoint.pth.tar'):\n",
    "    \"\"\"save checkpoint\"\"\"\n",
    "    if not os.path.exists(file_folder):\n",
    "        os.makedirs(os.path.expanduser(file_folder), exist_ok=True)\n",
    "    torch.save(state, os.path.join(file_folder, filename))\n",
    "    if is_best:\n",
    "        # skip the optimization state\n",
    "        state.pop('optimizer', None)\n",
    "        torch.save(state, os.path.join(file_folder, 'model_best.pth.tar'))\n",
    "\n",
    "\n",
    "\n",
    "\n",
    "\n"
   ]
  },
  {
   "cell_type": "code",
   "execution_count": 62,
   "id": "ff9b5d5f-7b1d-47d7-9854-f182c5893d43",
   "metadata": {
    "scrolled": true
   },
   "outputs": [
    {
     "name": "stdout",
     "output_type": "stream",
     "text": [
      "Training the model ...\n",
      "\n"
     ]
    },
    {
     "name": "stderr",
     "output_type": "stream",
     "text": [
      "100%|██████████████████████████████████████████████████████████████████████████████| 1875/1875 [01:58<00:00, 15.83it/s]\n"
     ]
    },
    {
     "name": "stdout",
     "output_type": "stream",
     "text": [
      "[Training set] Epoch: 1, Average loss: 0.7770\n",
      "[Test set] Epoch: 1, Accuracy: 94.70%\n",
      "\n",
      "Finished Training\n"
     ]
    }
   ],
   "source": [
    "class MyArgs:\n",
    "    resume = False #\"./outputs/checkpoint.pth.tar\"\n",
    "    epochs = 1\n",
    "    lr = 0.002\n",
    "    batch_size = 128\n",
    "args = MyArgs()\n",
    "\n",
    "# main function for training and testing\n",
    "\n",
    "# set up random seed\n",
    "#torch.manual_seed(0)\n",
    "\n",
    "###################################\n",
    "# setup model, loss and optimizer #\n",
    "###################################\n",
    "\n",
    "model = LeNet()\n",
    "\n",
    "training_criterion = nn.CrossEntropyLoss()\n",
    "optimizer = optim.SGD(model.parameters(), lr=args.lr, momentum=0.9)\n",
    "# optim.Adam(model.parameters(), lr=args.lr)\n",
    "\n",
    "# set up transforms to transform the PIL Image to tensors\n",
    "train_transform = transforms.Compose([\n",
    "    transforms.ToTensor(),\n",
    "    transforms.RandomHorizontalFlip(),\n",
    "    transforms.Normalize(mean=[0.485, 0.456, 0.406],\n",
    "                         std=[0.229, 0.224, 0.225])\n",
    "])\n",
    "\n",
    "test_transform = transforms.Compose([\n",
    "    transforms.ToTensor(),\n",
    "    transforms.Normalize(mean=[0.485, 0.456, 0.406],\n",
    "                         std=[0.229, 0.224, 0.225])\n",
    "])\n",
    "\n",
    "################################\n",
    "# setup dataset and dataloader #\n",
    "################################\n",
    "\n",
    "train_loader = torch.utils.data.DataLoader(comb_train , batch_size=args.batch_size,shuffle=True )\n",
    "test_loader = torch.utils.data.DataLoader( comb_test , batch_size=args.batch_size,shuffle=True )\n",
    "\n",
    "################################\n",
    "# start the training           #\n",
    "################################\n",
    "# resume from a previous checkpoint\n",
    "best_acc = 0.0\n",
    "start_epoch = 0\n",
    "if args.resume:\n",
    "    if os.path.isfile(args.resume):\n",
    "        print(\"=> loading checkpoint '{:s}'\".format(args.resume))\n",
    "        checkpoint = torch.load(args.resume)\n",
    "        start_epoch = checkpoint['epoch']\n",
    "        best_acc = checkpoint['best_acc']\n",
    "        # load model weight\n",
    "        model.load_state_dict(checkpoint['state_dict'])\n",
    "        # load optimizer states\n",
    "        optimizer.load_state_dict(checkpoint['optimizer'])\n",
    "        print(\"=> loaded checkpoint '{:s}' (epoch {:d}, acc {:0.2f})\".format(\n",
    "            args.resume, checkpoint['epoch'], 100*best_acc))\n",
    "    else:\n",
    "        print(\"=> no checkpoint found at '{}'\".format(args.resume))\n",
    "\n",
    "# training of the model\n",
    "print(\"Training the model ...\\n\")\n",
    "for epoch in range(start_epoch, args.epochs):\n",
    "    # train model for 1 epoch\n",
    "    train_model(model, train_loader, optimizer, training_criterion, epoch)\n",
    "    # evaluate the model on test_set after this epoch\n",
    "    acc = test_model(model, test_loader, epoch)\n",
    "    # save the current checkpoint\n",
    "    save_checkpoint({\n",
    "        'epoch': epoch + 1,\n",
    "        'state_dict': model.state_dict(),\n",
    "        'best_acc' : max(best_acc, acc),\n",
    "        'optimizer' : optimizer.state_dict(),\n",
    "        }, (acc > best_acc))\n",
    "    best_acc = max(best_acc, acc)\n",
    "print(\"Finished Training\")"
   ]
  },
  {
   "cell_type": "code",
   "execution_count": 63,
   "id": "2146856e-1a7d-4b67-aca8-914dbe116cad",
   "metadata": {},
   "outputs": [
    {
     "data": {
      "text/plain": [
       "LeNet(\n",
       "  (conv1): Conv2d(1, 6, kernel_size=(5, 5), stride=(1, 1), bias=False)\n",
       "  (conv2): Conv2d(6, 16, kernel_size=(5, 5), stride=(1, 1), bias=False)\n",
       "  (lin1): Linear(in_features=400, out_features=120, bias=False)\n",
       "  (lin2): Linear(in_features=120, out_features=84, bias=False)\n",
       "  (lin3): Linear(in_features=84, out_features=10, bias=False)\n",
       ")"
      ]
     },
     "execution_count": 63,
     "metadata": {},
     "output_type": "execute_result"
    }
   ],
   "source": [
    "model"
   ]
  },
  {
   "cell_type": "code",
   "execution_count": 64,
   "id": "3f0cef94-fd05-46ff-9b0c-e10725f9ed1e",
   "metadata": {},
   "outputs": [
    {
     "data": {
      "text/plain": [
       "61470.0"
      ]
     },
     "execution_count": 64,
     "metadata": {},
     "output_type": "execute_result"
    }
   ],
   "source": [
    "count_model_params() *1000000"
   ]
  },
  {
   "cell_type": "code",
   "execution_count": 65,
   "id": "d416ccf3",
   "metadata": {},
   "outputs": [
    {
     "data": {
      "text/plain": [
       "torch.Size([6, 1, 5, 5])"
      ]
     },
     "execution_count": 65,
     "metadata": {},
     "output_type": "execute_result"
    }
   ],
   "source": [
    "model.conv1.weight.shape"
   ]
  },
  {
   "cell_type": "code",
   "execution_count": 77,
   "id": "be76a299",
   "metadata": {},
   "outputs": [
    {
     "data": {
      "text/plain": [
       "60630"
      ]
     },
     "execution_count": 77,
     "metadata": {},
     "output_type": "execute_result"
    }
   ],
   "source": [
    "6*1*5*5 + 16*6*5*5 + 400*120 + 120*84 #+ 84*10"
   ]
  },
  {
   "cell_type": "code",
   "execution_count": 67,
   "id": "35a80420",
   "metadata": {},
   "outputs": [
    {
     "data": {
      "text/plain": [
       "torch.Size([16, 6, 5, 5])"
      ]
     },
     "execution_count": 67,
     "metadata": {},
     "output_type": "execute_result"
    }
   ],
   "source": [
    "model.conv2.weight.shape"
   ]
  },
  {
   "cell_type": "code",
   "execution_count": 68,
   "id": "9f574562",
   "metadata": {},
   "outputs": [
    {
     "data": {
      "text/plain": [
       "torch.Size([120, 400])"
      ]
     },
     "execution_count": 68,
     "metadata": {},
     "output_type": "execute_result"
    }
   ],
   "source": [
    "model.lin1.weight.shape"
   ]
  },
  {
   "cell_type": "code",
   "execution_count": 69,
   "id": "0af55925",
   "metadata": {},
   "outputs": [
    {
     "data": {
      "text/plain": [
       "torch.Size([84, 120])"
      ]
     },
     "execution_count": 69,
     "metadata": {},
     "output_type": "execute_result"
    }
   ],
   "source": [
    "model.lin2.weight.shape"
   ]
  },
  {
   "cell_type": "code",
   "execution_count": 79,
   "id": "cd8871de",
   "metadata": {},
   "outputs": [],
   "source": [
    "import struct\n",
    "write_file = open('weightfix.hex', 'w')\n",
    "for i in range(len(model.conv1.weight.reshape(-1))):\n",
    "    s_print = \"@\"+hex(i)[2:].zfill(4)+\" \"+hex(struct.unpack('<I', struct.pack('<f', model.conv1.weight.reshape(-1)[i].item()))[0])[2:].zfill(8)\n",
    "    write_file.write(s_print.strip()+'\\n')\n",
    "for i in range(len(model.conv2.weight.reshape(-1))):\n",
    "    s_print = \"@\"+hex(i+len(model.conv1.weight.reshape(-1)))[2:].zfill(4)+\" \"+hex(struct.unpack('<I', struct.pack('<f', model.conv2.weight.reshape(-1)[i].item()))[0])[2:].zfill(8)\n",
    "    write_file.write(s_print.strip()+'\\n')\n",
    "for i in range(len(model.lin1.weight.reshape(-1))):\n",
    "    s_print = \"@\"+hex(i+len(model.conv1.weight.reshape(-1))+len(model.conv2.weight.reshape(-1)))[2:].zfill(4)+\" \"+hex(struct.unpack('<I', struct.pack('<f', model.lin1.weight.reshape(-1)[i].item()))[0])[2:].zfill(8)\n",
    "    write_file.write(s_print.strip()+'\\n')\n",
    "for i in range(len(model.lin2.weight.reshape(-1))):\n",
    "    s_print = \"@\"+hex(i+len(model.conv1.weight.reshape(-1))+len(model.conv2.weight.reshape(-1))+len(model.lin1.weight.reshape(-1)))[2:].zfill(4)+\" \"+hex(struct.unpack('<I', struct.pack('<f', model.lin2.weight.reshape(-1)[i].item()))[0])[2:].zfill(8)\n",
    "    write_file.write(s_print.strip()+'\\n')\n",
    "for i in range(len(model.lin3.weight.reshape(-1))):\n",
    "    s_print = \"@\"+hex(i+len(model.conv1.weight.reshape(-1))+len(model.conv2.weight.reshape(-1))+len(model.lin1.weight.reshape(-1))+len(model.lin2.weight.reshape(-1)))[2:].zfill(4)+\" \"+hex(struct.unpack('<I', struct.pack('<f', model.lin3.weight.reshape(-1)[i].item()))[0])[2:].zfill(8)\n",
    "    write_file.write(s_print.strip()+'\\n')\n",
    "write_file.close()"
   ]
  },
  {
   "cell_type": "code",
   "execution_count": 25,
   "id": "997e7b0e-be0a-4a20-9ea1-268239b10217",
   "metadata": {},
   "outputs": [
    {
     "data": {
      "text/plain": [
       "Parameter containing:\n",
       "tensor([[-0.0187,  0.0300,  0.0211,  ..., -0.0336, -0.0211,  0.0193],\n",
       "        [ 0.0190, -0.0062, -0.0183,  ...,  0.0253, -0.0191,  0.0412],\n",
       "        [-0.0082, -0.0511,  0.0135,  ...,  0.0213, -0.0060, -0.0154],\n",
       "        ...,\n",
       "        [-0.0600, -0.0005, -0.0525,  ...,  0.0412, -0.0041, -0.0394],\n",
       "        [ 0.0013, -0.0401,  0.0415,  ...,  0.0039, -0.0106, -0.0222],\n",
       "        [-0.0156,  0.0858,  0.1285,  ...,  0.0133,  0.0270, -0.0471]],\n",
       "       requires_grad=True)"
      ]
     },
     "execution_count": 25,
     "metadata": {},
     "output_type": "execute_result"
    }
   ],
   "source": [
    "model.lin1.weight"
   ]
  },
  {
   "cell_type": "code",
   "execution_count": null,
   "id": "5cbd8705",
   "metadata": {},
   "outputs": [],
   "source": [
    "len(model.lin1.weight.reshape(-1))"
   ]
  },
  {
   "cell_type": "code",
   "execution_count": 72,
   "id": "38367cad",
   "metadata": {},
   "outputs": [],
   "source": [
    "import struct\n",
    "write_file = open('weightfix.hex', 'w')\n",
    "for i in range(len(model.lin1.weight.reshape(-1))):\n",
    "    s_print = \"@\"+hex(i)[2:].zfill(4)+\" \"+hex(struct.unpack('<I', struct.pack('<f', model.lin1.weight.reshape(-1)[i].item()))[0])[2:].zfill(8)\n",
    "    write_file.write(s_print.strip()+'\\n')\n",
    "for i in range(len(model.lin2.weight.reshape(-1))):\n",
    "    s_print = \"@\"+hex(i+len(model.lin1.weight.reshape(-1)))[2:].zfill(4)+\" \"+hex(struct.unpack('<I', struct.pack('<f', model.lin2.weight.reshape(-1)[i].item()))[0])[2:].zfill(8)\n",
    "    write_file.write(s_print.strip()+'\\n')\n",
    "write_file.close()"
   ]
  },
  {
   "cell_type": "code",
   "execution_count": 71,
   "id": "58f8505f",
   "metadata": {},
   "outputs": [],
   "source": [
    "write_file = open('weightfix.hex', 'w')\n",
    "for i in range(len(model.lin2.weight.reshape(-1))):\n",
    "    s_print = \"@\"+hex(i+len(model.lin1.weight.reshape(-1)))[2:].zfill(4)+\" \"+hex(struct.unpack('<I', struct.pack('<f', model.lin2.weight.reshape(-1)[i].item()))[0])[2:].zfill(8)\n",
    "    write_file.write(s_print.strip()+'\\n')\n",
    "write_file.close()"
   ]
  },
  {
   "cell_type": "code",
   "execution_count": null,
   "id": "c71f9e15",
   "metadata": {},
   "outputs": [],
   "source": [
    "for i in range(len(model.lin2.weight.reshape(-1))):\n",
    "    print(\"@\"+hex(i+len(model.lin1.weight.reshape(-1)))[2:].zfill(4)+\" \"+hex(struct.unpack('<I', struct.pack('<f', model.lin2.weight.reshape(-1)[i].item()))[0])[2:].zfill(8), end=\"|\")\n",
    "print()"
   ]
  },
  {
   "cell_type": "code",
   "execution_count": null,
   "id": "83ba95df",
   "metadata": {},
   "outputs": [],
   "source": [
    "count_model_params() * 1000000"
   ]
  },
  {
   "cell_type": "code",
   "execution_count": null,
   "id": "07924779",
   "metadata": {},
   "outputs": [],
   "source": [
    "with open('fixed_image.hex','r') as file:\n",
    "    img = file.read().split(\"\\n\")\n",
    "hex_num = []\n",
    "for i in range(len(img)):\n",
    "    if img[i][6:] != '':\n",
    "        hex_num.append(img[i][6:])\n",
    "len(hex_num)"
   ]
  },
  {
   "cell_type": "code",
   "execution_count": null,
   "id": "b994aa87",
   "metadata": {},
   "outputs": [],
   "source": [
    "int_num = []\n",
    "for i in range(len(hex_num)):\n",
    "    int_num.append(int(hex_num[i], 16))\n",
    "len(int_num)"
   ]
  },
  {
   "cell_type": "code",
   "execution_count": null,
   "id": "61b88d43",
   "metadata": {},
   "outputs": [],
   "source": [
    "device = torch.device('cuda' if torch.cuda.is_available() else 'cpu')\n",
    "model.to(device)\n",
    "model.eval()\n",
    "correct = 0\n",
    "with torch.no_grad():\n",
    "    input = torch.FloatTensor(int_num).reshape(1, 784)\n",
    "    input = input.to(device)\n",
    "    output, _ = model(input)\n",
    "output"
   ]
  },
  {
   "cell_type": "code",
   "execution_count": null,
   "id": "a3e347f6",
   "metadata": {},
   "outputs": [],
   "source": [
    "max(output.reshape(10).tolist())"
   ]
  },
  {
   "cell_type": "code",
   "execution_count": null,
   "id": "c8de491b",
   "metadata": {},
   "outputs": [],
   "source": [
    "output.reshape(10).tolist().index(max(output.reshape(10).tolist()))"
   ]
  },
  {
   "cell_type": "code",
   "execution_count": null,
   "id": "eed0840f",
   "metadata": {},
   "outputs": [],
   "source": [
    "figure = plt.figure(figsize=(1, 1))\n",
    "cols, rows = 1, 1\n",
    "sample_idx = 5\n",
    "figure.add_subplot(rows, cols, 1)\n",
    "plt.title(label) \n",
    "plt.axis(\"off\")\n",
    "plt.imshow(torch.FloatTensor(int_num).view(28,28), cmap=\"gray\")"
   ]
  },
  {
   "cell_type": "code",
   "execution_count": 38,
   "id": "c772589e",
   "metadata": {},
   "outputs": [
    {
     "data": {
      "text/plain": [
       "tensor([0., 0., 0.,  ..., 0., 0., 0.])"
      ]
     },
     "execution_count": 38,
     "metadata": {},
     "output_type": "execute_result"
    }
   ],
   "source": [
    "comb_test[sample_idx][0].reshape(-1)"
   ]
  },
  {
   "cell_type": "code",
   "execution_count": 41,
   "id": "ddea04f4",
   "metadata": {},
   "outputs": [
    {
     "name": "stdout",
     "output_type": "stream",
     "text": [
      "@0000 00000000|@0001 00000000|@0002 00000000|@0003 00000000|@0004 00000000|@0005 00000000|@0006 00000000|@0007 00000000|@0008 00000000|@0009 00000000|@000a 00000000|@000b 00000000|@000c 00000000|@000d 00000000|@000e 00000000|@000f 00000000|@0010 00000000|@0011 00000000|@0012 00000000|@0013 00000000|@0014 00000000|@0015 00000000|@0016 00000000|@0017 00000000|@0018 00000000|@0019 00000000|@001a 00000000|@001b 00000000|@001c 00000000|@001d 00000000|@001e 00000000|@001f 00000000|@0020 00000000|@0021 00000000|@0022 00000000|@0023 00000000|@0024 00000000|@0025 00000000|@0026 00000000|@0027 00000000|@0028 00000000|@0029 00000000|@002a 00000000|@002b 00000000|@002c 00000000|@002d 00000000|@002e 00000000|@002f 00000000|@0030 00000000|@0031 00000000|@0032 00000000|@0033 00000000|@0034 00000000|@0035 00000000|@0036 00000000|@0037 00000000|@0038 00000000|@0039 00000000|@003a 00000000|@003b 00000000|@003c 00000000|@003d 00000000|@003e 00000000|@003f 00000000|@0040 00000000|@0041 00000000|@0042 00000000|@0043 00000000|@0044 00000000|@0045 00000000|@0046 00000000|@0047 00000000|@0048 00000000|@0049 00000000|@004a 00000000|@004b 00000000|@004c 00000000|@004d 00000000|@004e 00000000|@004f 00000000|@0050 00000000|@0051 00000000|@0052 00000000|@0053 00000000|@0054 00000000|@0055 00000000|@0056 00000000|@0057 00000000|@0058 00000000|@0059 00000000|@005a 00000000|@005b 00000000|@005c 00000000|@005d 00000000|@005e 00000000|@005f 00000000|@0060 00000000|@0061 00000000|@0062 00000000|@0063 00000000|@0064 00000000|@0065 00000000|@0066 00000000|@0067 00000000|@0068 00000000|@0069 00000000|@006a 00000000|@006b 00000000|@006c 00000000|@006d 00000000|@006e 00000000|@006f 00000000|@0070 00000000|@0071 3c008081|@0072 3c808081|@0073 3c808081|@0074 3c808081|@0075 3c008081|@0076 00000000|@0077 00000000|@0078 00000000|@0079 00000000|@007a 00000000|@007b 00000000|@007c 00000000|@007d 00000000|@007e 00000000|@007f 00000000|@0080 00000000|@0081 00000000|@0082 00000000|@0083 00000000|@0084 00000000|@0085 00000000|@0086 00000000|@0087 00000000|@0088 00000000|@0089 00000000|@008a 00000000|@008b 00000000|@008c 00000000|@008d 00000000|@008e 00000000|@008f 00000000|@0090 3d008081|@0091 3e9a9a9b|@0092 3efafafb|@0093 3efefeff|@0094 3efafafb|@0095 3ea2a2a3|@0096 3db0b0b1|@0097 3b808081|@0098 00000000|@0099 00000000|@009a 00000000|@009b 00000000|@009c 00000000|@009d 00000000|@009e 00000000|@009f 00000000|@00a0 00000000|@00a1 00000000|@00a2 00000000|@00a3 00000000|@00a4 00000000|@00a5 00000000|@00a6 00000000|@00a7 00000000|@00a8 00000000|@00a9 00000000|@00aa 00000000|@00ab 00000000|@00ac 00000000|@00ad 00000000|@00ae 3b808081|@00af 3db0b0b1|@00b0 3ebebebf|@00b1 3f5adadb|@00b2 3f79f9fa|@00b3 3f7afafb|@00b4 3f79f9fa|@00b5 3f68e8e9|@00b6 3f1a9a9b|@00b7 3db8b8b9|@00b8 00000000|@00b9 00000000|@00ba 00000000|@00bb 00000000|@00bc 00000000|@00bd 00000000|@00be 00000000|@00bf 00000000|@00c0 00000000|@00c1 00000000|@00c2 00000000|@00c3 00000000|@00c4 00000000|@00c5 00000000|@00c6 00000000|@00c7 00000000|@00c8 00000000|@00c9 00000000|@00ca 00000000|@00cb 00000000|@00cc 00000000|@00cd 3b808081|@00ce 3e0c8c8d|@00cf 3f1f9fa0|@00d0 3f68e8e9|@00d1 3f7dfdfe|@00d2 3f7efeff|@00d3 3f7efeff|@00d4 3f7dfdfe|@00d5 3f7efeff|@00d6 3f6aeaeb|@00d7 3f038384|@00d8 3e008081|@00d9 00000000|@00da 00000000|@00db 00000000|@00dc 00000000|@00dd 00000000|@00de 00000000|@00df 00000000|@00e0 00000000|@00e1 00000000|@00e2 00000000|@00e3 00000000|@00e4 00000000|@00e5 00000000|@00e6 00000000|@00e7 00000000|@00e8 00000000|@00e9 00000000|@00ea 00000000|@00eb 00000000|@00ec 3b808081|@00ed 3e0c8c8d|@00ee 3f23a3a4|@00ef 3f75f5f6|@00f0 3f7efeff|@00f1 3f7efeff|@00f2 3f7efeff|@00f3 3f6ceced|@00f4 3f43c3c4|@00f5 3f76f6f7|@00f6 3f7efeff|@00f7 3f72f2f3|@00f8 3efefeff|@00f9 3d20a0a1|@00fa 00000000|@00fb 00000000|@00fc 00000000|@00fd 00000000|@00fe 00000000|@00ff 00000000|@0100 00000000|@0101 00000000|@0102 00000000|@0103 00000000|@0104 00000000|@0105 00000000|@0106 00000000|@0107 00000000|@0108 00000000|@0109 00000000|@010a 00000000|@010b 3b808081|@010c 3e0c8c8d|@010d 3f23a3a4|@010e 3f75f5f6|@010f 3f7efeff|@0110 3f7efeff|@0111 3f7efeff|@0112 3f76f6f7|@0113 3f1f9fa0|@0114 3e60e0e1|@0115 3f24a4a5|@0116 3f77f7f8|@0117 3f7efeff|@0118 3f5cdcdd|@0119 3e9e9e9f|@011a 3c40c0c1|@011b 00000000|@011c 00000000|@011d 00000000|@011e 00000000|@011f 00000000|@0120 00000000|@0121 00000000|@0122 00000000|@0123 00000000|@0124 00000000|@0125 00000000|@0126 00000000|@0127 00000000|@0128 00000000|@0129 00000000|@012a 00000000|@012b 3db0b0b1|@012c 3f1f9fa0|@012d 3f75f5f6|@012e 3f7efeff|@012f 3f7efeff|@0130 3f7efeff|@0131 3f7bfbfc|@0132 3f2fafb0|@0133 3e109091|@0134 3c008081|@0135 3e50d0d1|@0136 3f5cdcdd|@0137 3f7efeff|@0138 3f7bfbfc|@0139 3f2aaaab|@013a 3da8a8a9|@013b 00000000|@013c 00000000|@013d 00000000|@013e 00000000|@013f 00000000|@0140 00000000|@0141 00000000|@0142 00000000|@0143 00000000|@0144 00000000|@0145 00000000|@0146 00000000|@0147 00000000|@0148 00000000|@0149 00000000|@014a 3c008081|@014b 3ea2a2a3|@014c 3f68e8e9|@014d 3f7efeff|@014e 3f7efeff|@014f 3f7efeff|@0150 3f7dfdfe|@0151 3f5adadb|@0152 3e9e9e9f|@0153 3c40c0c1|@0154 00000000|@0155 3da8a8a9|@0156 3f2cacad|@0157 3f7cfcfd|@0158 3f7efeff|@0159 3f57d7d8|@015a 3e149495|@015b 00000000|@015c 00000000|@015d 00000000|@015e 00000000|@015f 00000000|@0160 00000000|@0161 00000000|@0162 00000000|@0163 00000000|@0164 00000000|@0165 00000000|@0166 00000000|@0167 00000000|@0168 00000000|@0169 00000000|@016a 3c808081|@016b 3efafafb|@016c 3f79f9fa|@016d 3f7efeff|@016e 3f7efeff|@016f 3f79f9fa|@0170 3f4fcfd0|@0171 3eb4b4b5|@0172 3d008081|@0173 00000000|@0174 00000000|@0175 3ca0a0a1|@0176 3f018182|@0177 3f7afafb|@0178 3f7efeff|@0179 3f59d9da|@017a 3e149495|@017b 00000000|@017c 00000000|@017d 00000000|@017e 00000000|@017f 00000000|@0180 00000000|@0181 00000000|@0182 00000000|@0183 00000000|@0184 00000000|@0185 00000000|@0186 00000000|@0187 00000000|@0188 00000000|@0189 00000000|@018a 3c808081|@018b 3efafafb|@018c 3f77f7f8|@018d 3f7efeff|@018e 3f7dfdfe|@018f 3f4fcfd0|@0190 3e6ceced|@0191 3ce0e0e1|@0192 00000000|@0193 00000000|@0194 00000000|@0195 3c808081|@0196 3efefeff|@0197 3f7afafb|@0198 3f7efeff|@0199 3f59d9da|@019a 3e149495|@019b 00000000|@019c 00000000|@019d 00000000|@019e 00000000|@019f 00000000|@01a0 00000000|@01a1 00000000|@01a2 00000000|@01a3 00000000|@01a4 00000000|@01a5 00000000|@01a6 00000000|@01a7 00000000|@01a8 00000000|@01a9 00000000|@01aa 3c008081|@01ab 3e828283|@01ac 3f2aaaab|@01ad 3f57d7d8|@01ae 3f4acacb|@01af 3eb4b4b5|@01b0 3ce0e0e1|@01b1 00000000|@01b2 00000000|@01b3 00000000|@01b4 00000000|@01b5 3d109091|@01b6 3f0c8c8d|@01b7 3f7afafb|@01b8 3f7efeff|@01b9 3f59d9da|@01ba 3e149495|@01bb 00000000|@01bc 00000000|@01bd 00000000|@01be 00000000|@01bf 00000000|@01c0 00000000|@01c1 00000000|@01c2 00000000|@01c3 00000000|@01c4 00000000|@01c5 00000000|@01c6 00000000|@01c7 00000000|@01c8 00000000|@01c9 00000000|@01ca 00000000|@01cb 3c008081|@01cc 3da8a8a9|@01cd 3e149495|@01ce 3e008081|@01cf 3ce0e0e1|@01d0 00000000|@01d1 00000000|@01d2 00000000|@01d3 00000000|@01d4 00000000|@01d5 3e38b8b9|@01d6 3f50d0d1|@01d7 3f7efeff|@01d8 3f7dfdfe|@01d9 3f4acacb|@01da 3e008081|@01db 00000000|@01dc 00000000|@01dd 00000000|@01de 00000000|@01df 00000000|@01e0 00000000|@01e1 00000000|@01e2 00000000|@01e3 00000000|@01e4 00000000|@01e5 00000000|@01e6 00000000|@01e7 00000000|@01e8 00000000|@01e9 00000000|@01ea 00000000|@01eb 00000000|@01ec 00000000|@01ed 00000000|@01ee 00000000|@01ef 00000000|@01f0 00000000|@01f1 00000000|@01f2 00000000|@01f3 00000000|@01f4 3c808081|@01f5 3ee6e6e7|@01f6 3f75f5f6|@01f7 3f7efeff|@01f8 3f68e8e9|@01f9 3ebebebf|@01fa 3ce0e0e1|@01fb 00000000|@01fc 00000000|@01fd 00000000|@01fe 00000000|@01ff 00000000|@0200 00000000|@0201 00000000|@0202 00000000|@0203 00000000|@0204 00000000|@0205 00000000|@0206 00000000|@0207 00000000|@0208 00000000|@0209 00000000|@020a 00000000|@020b 00000000|@020c 00000000|@020d 00000000|@020e 00000000|@020f 00000000|@0210 00000000|@0211 00000000|@0212 00000000|@0213 3b808081|@0214 3e109091|@0215 3f31b1b2|@0216 3f7cfcfd|@0217 3f7cfcfd|@0218 3f2dadae|@0219 3db0b0b1|@021a 00000000|@021b 00000000|@021c 00000000|@021d 00000000|@021e 00000000|@021f 00000000|@0220 00000000|@0221 00000000|@0222 00000000|@0223 00000000|@0224 00000000|@0225 00000000|@0226 00000000|@0227 00000000|@0228 3c008081|@0229 3d109091|@022a 3e008081|@022b 3e149495|@022c 3e149495|@022d 3e149495|@022e 3e149495|@022f 3e149495|@0230 3e149495|@0231 3e149495|@0232 3da8a8a9|@0233 3e109091|@0234 3f23a3a4|@0235 3f76f6f7|@0236 3f7efeff|@0237 3f79f9fa|@0238 3efefeff|@0239 3ca0a0a1|@023a 00000000|@023b 00000000|@023c 00000000|@023d 00000000|@023e 00000000|@023f 00000000|@0240 00000000|@0241 00000000|@0242 00000000|@0243 00000000|@0244 00000000|@0245 00000000|@0246 00000000|@0247 3d008081|@0248 3e9a9a9b|@0249 3f0b8b8c|@024a 3f4bcbcc|@024b 3f59d9da|@024c 3f59d9da|@024d 3f59d9da|@024e 3f59d9da|@024f 3f59d9da|@0250 3f59d9da|@0251 3f57d7d8|@0252 3f2eaeaf|@0253 3f33b3b4|@0254 3f76f6f7|@0255 3f7efeff|@0256 3f7efeff|@0257 3f6aeaeb|@0258 3eaaaaab|@0259 3c40c0c1|@025a 00000000|@025b 00000000|@025c 00000000|@025d 00000000|@025e 00000000|@025f 00000000|@0260 00000000|@0261 00000000|@0262 00000000|@0263 00000000|@0264 00000000|@0265 00000000|@0266 3d008081|@0267 3eb2b2b3|@0268 3f5adadb|@0269 3f7afafb|@026a 3f7efeff|@026b 3f7efeff|@026c 3f7efeff|@026d 3f7efeff|@026e 3f7efeff|@026f 3f7efeff|@0270 3f7efeff|@0271 3f7efeff|@0272 3f7cfcfd|@0273 3f7cfcfd|@0274 3f7efeff|@0275 3f7efeff|@0276 3f7efeff|@0277 3f6ceced|@0278 3f068687|@0279 3e008081|@027a 00000000|@027b 00000000|@027c 00000000|@027d 00000000|@027e 00000000|@027f 00000000|@0280 00000000|@0281 00000000|@0282 00000000|@0283 00000000|@0284 00000000|@0285 3c008081|@0286 3e868687|@0287 3f3bbbbc|@0288 3f7bfbfc|@0289 3f7efeff|@028a 3f7efeff|@028b 3f76f6f7|@028c 3f6eeeef|@028d 3f75f5f6|@028e 3f6feff0|@028f 3f7dfdfe|@0290 3f7efeff|@0291 3f800000|@0292 3f800000|@0293 3f800000|@0294 3f800000|@0295 3f800000|@0296 3f7efeff|@0297 3f7efeff|@0298 3f72f2f3|@0299 3ee6e6e7|@029a 3c808081|@029b 00000000|@029c 00000000|@029d 00000000|@029e 00000000|@029f 00000000|@02a0 00000000|@02a1 00000000|@02a2 00000000|@02a3 00000000|@02a4 00000000|@02a5 3da8a8a9|@02a6 3f26a6a7|@02a7 3f70f0f1|@02a8 3f7efeff|@02a9 3f77f7f8|@02aa 3f50d0d1|@02ab 3f018182|@02ac 3ebebebf|@02ad 3ee6e6e7|@02ae 3eececed|@02af 3f6bebec|@02b0 3f7efeff|@02b1 3f7efeff|@02b2 3f7efeff|@02b3 3f7cfcfd|@02b4 3f7afafb|@02b5 3f7afafb|@02b6 3f7cfcfd|@02b7 3f7efeff|@02b8 3f7cfcfd|@02b9 3f2aaaab|@02ba 3da0a0a1|@02bb 00000000|@02bc 00000000|@02bd 00000000|@02be 00000000|@02bf 00000000|@02c0 00000000|@02c1 00000000|@02c2 00000000|@02c3 00000000|@02c4 00000000|@02c5 3e149495|@02c6 3f57d7d8|@02c7 3f7efeff|@02c8 3f7cfcfd|@02c9 3f32b2b3|@02ca 3e44c4c5|@02cb 3d50d0d1|@02cc 3d008081|@02cd 3e189899|@02ce 3f068687|@02cf 3f6ceced|@02d0 3f7efeff|@02d1 3f7afafb|@02d2 3f68e8e9|@02d3 3f2cacad|@02d4 3f018182|@02d5 3f018182|@02d6 3f2cacad|@02d7 3f58d8d9|@02d8 3f63e3e4|@02d9 3f1c9c9d|@02da 3d989899|@02db 00000000|@02dc 00000000|@02dd 00000000|@02de 00000000|@02df 00000000|@02e0 00000000|@02e1 00000000|@02e2 00000000|@02e3 00000000|@02e4 00000000|@02e5 3e149495|@02e6 3f57d7d8|@02e7 3f7efeff|@02e8 3f7bfbfc|@02e9 3f149495|@02ea 3e5cdcdd|@02eb 3ee4e4e5|@02ec 3f018182|@02ed 3f31b1b2|@02ee 3f74f4f5|@02ef 3f7cfcfd|@02f0 3f5dddde|@02f1 3f0b8b8c|@02f2 3ea4a4a5|@02f3 3db0b0b1|@02f4 3ca0a0a1|@02f5 3ca0a0a1|@02f6 3da8a8a9|@02f7 3e189899|@02f8 3e888889|@02f9 3e008081|@02fa 3b808081|@02fb 00000000|@02fc 00000000|@02fd 00000000|@02fe 00000000|@02ff 00000000|@0300 00000000|@0301 00000000|@0302 00000000|@0303 00000000|@0304 00000000|@0305 3da8a8a9|@0306 3f2cacad|@0307 3f7cfcfd|@0308 3f7efeff|@0309 3f6ceced|@030a 3f5ededf|@030b 3f75f5f6|@030c 3f7afafb|@030d 3f7cfcfd|@030e 3f7dfdfe|@030f 3f5bdbdc|@0310 3eb6b6b7|@0311 3d30b0b1|@0312 3c008081|@0313 00000000|@0314 00000000|@0315 00000000|@0316 00000000|@0317 00000000|@0318 3b808081|@0319 00000000|@031a 00000000|@031b 00000000|@031c 00000000|@031d 00000000|@031e 00000000|@031f 00000000|@0320 00000000|@0321 00000000|@0322 00000000|@0323 00000000|@0324 00000000|@0325 3c808081|@0326 3ee6e6e7|@0327 3f72f2f3|@0328 3f7efeff|@0329 3f7efeff|@032a 3f7efeff|@032b 3f7efeff|@032c 3f78f8f9|@032d 3f69e9ea|@032e 3f4ececf|@032f 3eb4b4b5|@0330 3d109091|@0331 00000000|@0332 00000000|@0333 00000000|@0334 00000000|@0335 00000000|@0336 00000000|@0337 00000000|@0338 00000000|@0339 00000000|@033a 00000000|@033b 00000000|@033c 00000000|@033d 00000000|@033e 00000000|@033f 00000000|@0340 00000000|@0341 00000000|@0342 00000000|@0343 00000000|@0344 00000000|@0345 00000000|@0346 3e008081|@0347 3efcfcfd|@0348 3f4bcbcc|@0349 3f59d9da|@034a 3f59d9da|@034b 3f57d7d8|@034c 3f20a0a1|@034d 3ea8a8a9|@034e 3e30b0b1|@034f 3ce0e0e1|@0350 00000000|@0351 00000000|@0352 00000000|@0353 00000000|@0354 00000000|@0355 00000000|@0356 00000000|@0357 00000000|@0358 00000000|@0359 00000000|@035a 00000000|@035b 00000000|@035c 00000000|@035d 00000000|@035e 00000000|@035f 00000000|@0360 00000000|@0361 00000000|@0362 00000000|@0363 00000000|@0364 00000000|@0365 00000000|@0366 00000000|@0367 3d008081|@0368 3e008081|@0369 3e149495|@036a 3e149495|@036b 3e149495|@036c 3da0a0a1|@036d 3c40c0c1|@036e 00000000|@036f 00000000|@0370 00000000|@0371 00000000|@0372 00000000|@0373 00000000|@0374 00000000|@0375 00000000|@0376 00000000|@0377 00000000|@0378 00000000|@0379 00000000|@037a 00000000|@037b 00000000|@037c 00000000|@037d 00000000|@037e 00000000|@037f 00000000|@0380 00000000|@0381 00000000|@0382 00000000|@0383 00000000|@0384 00000000|@0385 00000000|@0386 00000000|@0387 00000000|@0388 00000000|@0389 00000000|@038a 00000000|@038b 00000000|@038c 00000000|@038d 00000000|@038e 00000000|@038f 00000000|@0390 00000000|@0391 00000000|@0392 00000000|@0393 00000000|@0394 00000000|@0395 00000000|@0396 00000000|@0397 00000000|@0398 00000000|@0399 00000000|@039a 00000000|@039b 00000000|@039c 00000000|@039d 00000000|@039e 00000000|@039f 00000000|@03a0 00000000|@03a1 00000000|@03a2 00000000|@03a3 00000000|@03a4 00000000|@03a5 00000000|@03a6 00000000|@03a7 00000000|@03a8 00000000|@03a9 00000000|@03aa 00000000|@03ab 00000000|@03ac 00000000|@03ad 00000000|@03ae 00000000|@03af 00000000|@03b0 00000000|@03b1 00000000|@03b2 00000000|@03b3 00000000|@03b4 00000000|@03b5 00000000|@03b6 00000000|@03b7 00000000|@03b8 00000000|@03b9 00000000|@03ba 00000000|@03bb 00000000|@03bc 00000000|@03bd 00000000|@03be 00000000|@03bf 00000000|@03c0 00000000|@03c1 00000000|@03c2 00000000|@03c3 00000000|@03c4 00000000|@03c5 00000000|@03c6 00000000|@03c7 00000000|@03c8 00000000|@03c9 00000000|@03ca 00000000|@03cb 00000000|@03cc 00000000|@03cd 00000000|@03ce 00000000|@03cf 00000000|@03d0 00000000|@03d1 00000000|@03d2 00000000|@03d3 00000000|@03d4 00000000|@03d5 00000000|@03d6 00000000|@03d7 00000000|@03d8 00000000|@03d9 00000000|@03da 00000000|@03db 00000000|@03dc 00000000|@03dd 00000000|@03de 00000000|@03df 00000000|"
     ]
    },
    {
     "name": "stdout",
     "output_type": "stream",
     "text": [
      "@03e0 00000000|@03e1 00000000|@03e2 00000000|@03e3 00000000|@03e4 00000000|@03e5 00000000|@03e6 00000000|@03e7 00000000|@03e8 00000000|@03e9 00000000|@03ea 00000000|@03eb 00000000|@03ec 00000000|@03ed 00000000|@03ee 00000000|@03ef 00000000|@03f0 00000000|@03f1 00000000|@03f2 00000000|@03f3 00000000|@03f4 00000000|@03f5 00000000|@03f6 00000000|@03f7 00000000|@03f8 00000000|@03f9 00000000|@03fa 00000000|@03fb 00000000|@03fc 00000000|@03fd 00000000|@03fe 00000000|@03ff 00000000|\n"
     ]
    }
   ],
   "source": [
    "import struct\n",
    "for i in range(len(comb_test[sample_idx][0].reshape(-1))):\n",
    "    print(\"@\"+hex(i)[2:].zfill(4)+\" \"+hex(struct.unpack('<I', struct.pack('<f', comb_test[sample_idx][0].reshape(-1)[i].item()))[0])\n",
    "          [2:].zfill(8), end=\"|\")\n",
    "print()"
   ]
  },
  {
   "cell_type": "code",
   "execution_count": null,
   "id": "36be71f8",
   "metadata": {},
   "outputs": [],
   "source": []
  }
 ],
 "metadata": {
  "kernelspec": {
   "display_name": "Python 3 (ipykernel)",
   "language": "python",
   "name": "python3"
  },
  "language_info": {
   "codemirror_mode": {
    "name": "ipython",
    "version": 3
   },
   "file_extension": ".py",
   "mimetype": "text/x-python",
   "name": "python",
   "nbconvert_exporter": "python",
   "pygments_lexer": "ipython3",
   "version": "3.9.15"
  }
 },
 "nbformat": 4,
 "nbformat_minor": 5
}
