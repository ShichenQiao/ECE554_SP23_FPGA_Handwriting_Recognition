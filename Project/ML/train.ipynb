{
 "cells": [
  {
   "cell_type": "code",
   "execution_count": null,
   "id": "381f3144",
   "metadata": {
    "scrolled": true
   },
   "outputs": [],
   "source": [
    "%pip install torchvision"
   ]
  },
  {
   "cell_type": "code",
   "execution_count": 11,
   "id": "9bf98f89",
   "metadata": {},
   "outputs": [],
   "source": [
    "# python imports\n",
    "import os\n",
    "from tqdm import tqdm\n",
    "\n",
    "# torch imports\n",
    "import torch\n",
    "import torch.nn as nn\n",
    "import torch.optim as optim\n",
    "import torch.nn.functional as F\n",
    "\n",
    "# helper functions for computer vision\n",
    "import torchvision\n",
    "import torchvision.transforms as transforms\n",
    "import torchvision.datasets\n",
    "\n",
    "import argparse\n",
    "\n",
    "import scipy.io\n",
    "\n",
    "import matplotlib.pyplot as plt\n",
    "import numpy as np\n",
    "\n",
    "os.environ['KMP_DUPLICATE_LIB_OK'] = 'True'"
   ]
  },
  {
   "cell_type": "code",
   "execution_count": 24,
   "id": "7b8403a6-9f31-4d04-a2c3-9ab7296fbcd6",
   "metadata": {},
   "outputs": [],
   "source": [
    "# Import MNIST\n",
    "\n",
    "from torchvision.datasets import EMNIST\n",
    "#torchvision.datasets.EMNIST()\n",
    "# Download and Save MNIST \n",
    "digits_train = EMNIST( './emnist_data', train=True, split=\"mnist\", download=True, transform = transforms.Compose([transforms.ToTensor(),transforms.RandomCrop(size = 32, padding = 2, fill=0)]))\n",
    "#digits_train = EMNIST( './emnist_data', train=True, split=\"digits\", download=True, transform = transforms.Compose([transforms.ToTensor(),transforms.RandomCrop(size = 32, padding = 2, fill=0)]))\n",
    "letters_train = EMNIST( './emnist_data', train=True, split=\"letters\", download=True, transform = transforms.Compose([transforms.ToTensor(),transforms.RandomCrop(size = 32, padding = 2, fill=0)]))\n",
    "letters_train.targets += 9\n",
    "\n",
    "digits_test = EMNIST( './emnist_data', train=False, split=\"mnist\", download=True, transform = transforms.Compose([transforms.ToTensor(),transforms.RandomCrop(size = 32, padding = 2, fill=0)]))\n",
    "#digits_test = EMNIST( './emnist_data', train=False, split=\"digits\", download=True, transform = transforms.Compose([transforms.ToTensor(),transforms.RandomCrop(size = 32, padding = 2, fill=0)]))\n",
    "letters_test = EMNIST( './emnist_data', train=False, split=\"letters\", download=True, transform = transforms.Compose([transforms.ToTensor(),transforms.RandomCrop(size = 32, padding = 2, fill=0)]))\n",
    "letters_test.targets += 9\n",
    "\n",
    "comb_train = torch.utils.data.ConcatDataset([digits_train,letters_train])\n",
    "comb_test = torch.utils.data.ConcatDataset([digits_test,letters_test])\n",
    "\n",
    "data_train = torch.utils.data.DataLoader(comb_train , batch_size=128,shuffle=True )\n",
    "\n",
    "data_test = torch.utils.data.DataLoader( comb_test , batch_size=128,shuffle=True )\n",
    "#for batch_idx, samples in enumerate(data_train):\n",
    "    #print(batch_idx, samples)"
   ]
  },
  {
   "cell_type": "code",
   "execution_count": 25,
   "id": "be603b3c",
   "metadata": {},
   "outputs": [
    {
     "data": {
      "text/plain": [
       "Dataset EMNIST\n",
       "    Number of datapoints: 10000\n",
       "    Root location: ./emnist_data\n",
       "    Split: Test\n",
       "    StandardTransform\n",
       "Transform: Compose(\n",
       "               ToTensor()\n",
       "               RandomCrop(size=(32, 32), padding=2)\n",
       "           )"
      ]
     },
     "execution_count": 25,
     "metadata": {},
     "output_type": "execute_result"
    }
   ],
   "source": [
    "digits_test"
   ]
  },
  {
   "cell_type": "code",
   "execution_count": 26,
   "id": "80377fec-fabb-4a1f-b028-3b0b4f7921a4",
   "metadata": {},
   "outputs": [
    {
     "data": {
      "image/png": "[encoded data removed]",
      "text/plain": [
       "<Figure size 800x800 with 9 Axes>"
      ]
     },
     "metadata": {},
     "output_type": "display_data"
    }
   ],
   "source": [
    "figure = plt.figure(figsize=(8, 8))\n",
    "cols, rows = 3, 3\n",
    "for i in range(1, cols * rows + 1):\n",
    "    sample_idx = torch.randint(len(comb_test), size=(1,)).item()\n",
    "    img, label = comb_test[sample_idx]\n",
    "    figure.add_subplot(rows, cols, i)\n",
    "    plt.title(label) \n",
    "    plt.axis(\"off\")\n",
    "    plt.imshow(img.squeeze().T, cmap=\"gray\")\n",
    "plt.show()"
   ]
  },
  {
   "cell_type": "code",
   "execution_count": 27,
   "id": "a7022915",
   "metadata": {},
   "outputs": [],
   "source": [
    "class LeNet(nn.Module):\n",
    "    def __init__(self, input_shape=(32, 32), num_classes=36):\n",
    "        super(LeNet, self).__init__()\n",
    "        # certain definitions\n",
    "        self.num_classes = num_classes\n",
    "        self.input_shape = input_shape\n",
    "        self.conv1 = nn.Conv2d(1,6,5)\n",
    "        self.conv2 = nn.Conv2d(6,16,5)\n",
    "        self.lin1 = nn.Linear(400,120)\n",
    "        #self.lin1 = nn.Linear(1024,120)\n",
    "        self.lin2 = nn.Linear(120,84)\n",
    "        self.lin3 = nn.Linear(84,num_classes)\n",
    "        \n",
    "    def forward(self, x):\n",
    "        shape_dict = {}\n",
    "        '''\n",
    "        # neuron network\n",
    "        #Layer3\n",
    "        x = torch.flatten(x,1)\n",
    "        shape_dict[1] = list(x.size())\n",
    "        #Layer4\n",
    "        x = F.relu(self.lin1(x))\n",
    "        shape_dict[2] = list(x.size())\n",
    "        #Layer5\n",
    "        x = F.relu(self.lin2(x))\n",
    "        shape_dict[3] = list(x.size())\n",
    "        #Layer6\n",
    "        out = self.lin3(x)\n",
    "        shape_dict[4] = list(out.size())\n",
    "        '''\n",
    "        # CNN\n",
    "        #Layer1\n",
    "        x = F.max_pool2d(F.relu(self.conv1(x)),kernel_size=2,stride=2)\n",
    "        shape_dict[1] = list(x.size())\n",
    "        #Layer2\n",
    "        x = F.max_pool2d(F.relu(self.conv2(x)),kernel_size=2,stride=2)\n",
    "        shape_dict[2] = list(x.size())\n",
    "        #Layer3\n",
    "        x = torch.flatten(x,1)\n",
    "        shape_dict[3] = list(x.size())\n",
    "        #Layer4\n",
    "        x = F.relu(self.lin1(x))\n",
    "        shape_dict[4] = list(x.size())\n",
    "        #Layer5\n",
    "        x = F.relu(self.lin2(x))\n",
    "        shape_dict[5] = list(x.size())\n",
    "        #Layer6\n",
    "        out = self.lin3(x)\n",
    "        shape_dict[6] = list(out.size())\n",
    "        \n",
    "\n",
    "        return out, shape_dict\n",
    "\n",
    "\n",
    "def count_model_params():\n",
    "    '''\n",
    "    return the number of trainable parameters of LeNet.\n",
    "    '''\n",
    "    model = LeNet()\n",
    "    model_params = 0.0\n",
    "    for name, param in model.named_parameters():\n",
    "        temp_result = 1\n",
    "        for each in param.size():\n",
    "            temp_result = temp_result*each\n",
    "        model_params += temp_result\n",
    "    return model_params/1000000\n",
    "\n",
    "\n",
    "def train_model(model, train_loader, optimizer, criterion, epoch):\n",
    "    \"\"\"\n",
    "    model (torch.nn.module): The model created to train\n",
    "    train_loader (pytorch data loader): Training data loader\n",
    "    optimizer (optimizer.*): A instance of some sort of optimizer, usually SGD\n",
    "    criterion (nn.CrossEntropyLoss) : Loss function used to train the network\n",
    "    epoch (int): Current epoch number\n",
    "    \"\"\"\n",
    "    device = torch.device('cuda' if torch.cuda.is_available() else 'cpu')\n",
    "    model.to(device)\n",
    "    model.train()\n",
    "    train_loss = 0.0\n",
    "    \n",
    "    for input, target in tqdm(train_loader, total=len(train_loader)):\n",
    "        ###################################\n",
    "        # fill in the standard training loop of forward pass,\n",
    "        # backward pass, loss computation and optimizer step\n",
    "        ###################################\n",
    "        #might want to fix later TODO\n",
    "        input = input.to(device)\n",
    "        target = target.to(device)\n",
    "        \n",
    "        # 1) zero the parameter gradients\n",
    "        optimizer.zero_grad()\n",
    "        # 2) forward + backward + optimize\n",
    "        output, _ = model(input)\n",
    "        loss = criterion(output, target)\n",
    "        loss.backward()\n",
    "        optimizer.step()\n",
    "\n",
    "        # Update the train_loss variable\n",
    "        # .item() detaches the node from the computational graph\n",
    "        # Uncomment the below line after you fill block 1 and 2\n",
    "        train_loss += loss.item()\n",
    "\n",
    "    train_loss /= len(train_loader)\n",
    "    print('[Training set] Epoch: {:d}, Average loss: {:.4f}'.format(epoch+1, train_loss))\n",
    "\n",
    "    return train_loss\n",
    "\n",
    "\n",
    "def test_model(model, test_loader, epoch):\n",
    "    device = torch.device('cuda' if torch.cuda.is_available() else 'cpu')\n",
    "    model.to(device)\n",
    "    model.eval()\n",
    "    correct = 0\n",
    "    with torch.no_grad():\n",
    "        for input, target in test_loader:\n",
    "            input = input.to(device)\n",
    "            target = target.to(device)\n",
    "            output, _ = model(input)\n",
    "            pred = output.max(1, keepdim=True)[1]\n",
    "            correct += pred.eq(target.view_as(pred)).sum().item()\n",
    "\n",
    "    test_acc = correct / len(test_loader.dataset)\n",
    "    print('[Test set] Epoch: {:d}, Accuracy: {:.2f}%\\n'.format(\n",
    "        epoch+1, 100. * test_acc))\n",
    "\n",
    "    return test_acc\n"
   ]
  },
  {
   "cell_type": "code",
   "execution_count": 28,
   "id": "e94d901a",
   "metadata": {},
   "outputs": [],
   "source": [
    "def save_checkpoint(state, is_best,\n",
    "                    file_folder=\"./outputs/\",\n",
    "                    filename='checkpoint.pth.tar'):\n",
    "    \"\"\"save checkpoint\"\"\"\n",
    "    if not os.path.exists(file_folder):\n",
    "        os.makedirs(os.path.expanduser(file_folder), exist_ok=True)\n",
    "    torch.save(state, os.path.join(file_folder, filename))\n",
    "    if is_best:\n",
    "        # skip the optimization state\n",
    "        state.pop('optimizer', None)\n",
    "        torch.save(state, os.path.join(file_folder, 'model_best.pth.tar'))\n",
    "\n",
    "\n",
    "\n",
    "\n",
    "\n"
   ]
  },
  {
   "cell_type": "code",
   "execution_count": 29,
   "id": "ff9b5d5f-7b1d-47d7-9854-f182c5893d43",
   "metadata": {},
   "outputs": [
    {
     "name": "stdout",
     "output_type": "stream",
     "text": [
      "Training the model ...\n",
      "\n"
     ]
    },
    {
     "name": "stderr",
     "output_type": "stream",
     "text": [
      "100%|██████████████████████████████████████████████████████████████████████████████| 1444/1444 [00:51<00:00, 27.80it/s]\n"
     ]
    },
    {
     "name": "stdout",
     "output_type": "stream",
     "text": [
      "[Training set] Epoch: 1, Average loss: 2.3345\n",
      "[Test set] Epoch: 1, Accuracy: 70.06%\n",
      "\n"
     ]
    },
    {
     "name": "stderr",
     "output_type": "stream",
     "text": [
      "100%|██████████████████████████████████████████████████████████████████████████████| 1444/1444 [00:57<00:00, 25.15it/s]\n"
     ]
    },
    {
     "name": "stdout",
     "output_type": "stream",
     "text": [
      "[Training set] Epoch: 2, Average loss: 0.7442\n",
      "[Test set] Epoch: 2, Accuracy: 79.27%\n",
      "\n"
     ]
    },
    {
     "name": "stderr",
     "output_type": "stream",
     "text": [
      "100%|██████████████████████████████████████████████████████████████████████████████| 1444/1444 [00:51<00:00, 28.15it/s]\n"
     ]
    },
    {
     "name": "stdout",
     "output_type": "stream",
     "text": [
      "[Training set] Epoch: 3, Average loss: 0.5546\n",
      "[Test set] Epoch: 3, Accuracy: 82.79%\n",
      "\n"
     ]
    },
    {
     "name": "stderr",
     "output_type": "stream",
     "text": [
      "100%|██████████████████████████████████████████████████████████████████████████████| 1444/1444 [01:01<00:00, 23.47it/s]\n"
     ]
    },
    {
     "name": "stdout",
     "output_type": "stream",
     "text": [
      "[Training set] Epoch: 4, Average loss: 0.4814\n",
      "[Test set] Epoch: 4, Accuracy: 83.66%\n",
      "\n"
     ]
    },
    {
     "name": "stderr",
     "output_type": "stream",
     "text": [
      "100%|██████████████████████████████████████████████████████████████████████████████| 1444/1444 [00:51<00:00, 28.13it/s]\n"
     ]
    },
    {
     "name": "stdout",
     "output_type": "stream",
     "text": [
      "[Training set] Epoch: 5, Average loss: 0.4380\n",
      "[Test set] Epoch: 5, Accuracy: 85.31%\n",
      "\n"
     ]
    },
    {
     "name": "stderr",
     "output_type": "stream",
     "text": [
      "100%|██████████████████████████████████████████████████████████████████████████████| 1444/1444 [01:06<00:00, 21.85it/s]\n"
     ]
    },
    {
     "name": "stdout",
     "output_type": "stream",
     "text": [
      "[Training set] Epoch: 6, Average loss: 0.4092\n",
      "[Test set] Epoch: 6, Accuracy: 85.96%\n",
      "\n"
     ]
    },
    {
     "name": "stderr",
     "output_type": "stream",
     "text": [
      "100%|██████████████████████████████████████████████████████████████████████████████| 1444/1444 [00:51<00:00, 28.05it/s]\n"
     ]
    },
    {
     "name": "stdout",
     "output_type": "stream",
     "text": [
      "[Training set] Epoch: 7, Average loss: 0.3872\n",
      "[Test set] Epoch: 7, Accuracy: 86.38%\n",
      "\n"
     ]
    },
    {
     "name": "stderr",
     "output_type": "stream",
     "text": [
      "100%|██████████████████████████████████████████████████████████████████████████████| 1444/1444 [01:01<00:00, 23.42it/s]\n"
     ]
    },
    {
     "name": "stdout",
     "output_type": "stream",
     "text": [
      "[Training set] Epoch: 8, Average loss: 0.3718\n",
      "[Test set] Epoch: 8, Accuracy: 86.47%\n",
      "\n"
     ]
    },
    {
     "name": "stderr",
     "output_type": "stream",
     "text": [
      "100%|██████████████████████████████████████████████████████████████████████████████| 1444/1444 [00:52<00:00, 27.35it/s]\n"
     ]
    },
    {
     "name": "stdout",
     "output_type": "stream",
     "text": [
      "[Training set] Epoch: 9, Average loss: 0.3578\n",
      "[Test set] Epoch: 9, Accuracy: 87.15%\n",
      "\n"
     ]
    },
    {
     "name": "stderr",
     "output_type": "stream",
     "text": [
      "100%|██████████████████████████████████████████████████████████████████████████████| 1444/1444 [01:00<00:00, 24.01it/s]\n"
     ]
    },
    {
     "name": "stdout",
     "output_type": "stream",
     "text": [
      "[Training set] Epoch: 10, Average loss: 0.3460\n",
      "[Test set] Epoch: 10, Accuracy: 87.06%\n",
      "\n"
     ]
    },
    {
     "name": "stderr",
     "output_type": "stream",
     "text": [
      "100%|██████████████████████████████████████████████████████████████████████████████| 1444/1444 [00:52<00:00, 27.59it/s]\n"
     ]
    },
    {
     "name": "stdout",
     "output_type": "stream",
     "text": [
      "[Training set] Epoch: 11, Average loss: 0.3374\n",
      "[Test set] Epoch: 11, Accuracy: 87.29%\n",
      "\n"
     ]
    },
    {
     "name": "stderr",
     "output_type": "stream",
     "text": [
      "100%|██████████████████████████████████████████████████████████████████████████████| 1444/1444 [00:58<00:00, 24.66it/s]\n"
     ]
    },
    {
     "name": "stdout",
     "output_type": "stream",
     "text": [
      "[Training set] Epoch: 12, Average loss: 0.3287\n",
      "[Test set] Epoch: 12, Accuracy: 87.60%\n",
      "\n"
     ]
    },
    {
     "name": "stderr",
     "output_type": "stream",
     "text": [
      "100%|██████████████████████████████████████████████████████████████████████████████| 1444/1444 [00:53<00:00, 26.77it/s]\n"
     ]
    },
    {
     "name": "stdout",
     "output_type": "stream",
     "text": [
      "[Training set] Epoch: 13, Average loss: 0.3205\n",
      "[Test set] Epoch: 13, Accuracy: 87.39%\n",
      "\n"
     ]
    },
    {
     "name": "stderr",
     "output_type": "stream",
     "text": [
      "100%|██████████████████████████████████████████████████████████████████████████████| 1444/1444 [00:54<00:00, 26.43it/s]\n"
     ]
    },
    {
     "name": "stdout",
     "output_type": "stream",
     "text": [
      "[Training set] Epoch: 14, Average loss: 0.3138\n",
      "[Test set] Epoch: 14, Accuracy: 87.29%\n",
      "\n"
     ]
    },
    {
     "name": "stderr",
     "output_type": "stream",
     "text": [
      "100%|██████████████████████████████████████████████████████████████████████████████| 1444/1444 [00:55<00:00, 25.81it/s]\n"
     ]
    },
    {
     "name": "stdout",
     "output_type": "stream",
     "text": [
      "[Training set] Epoch: 15, Average loss: 0.3075\n",
      "[Test set] Epoch: 15, Accuracy: 87.89%\n",
      "\n"
     ]
    },
    {
     "name": "stderr",
     "output_type": "stream",
     "text": [
      "100%|██████████████████████████████████████████████████████████████████████████████| 1444/1444 [00:52<00:00, 27.74it/s]\n"
     ]
    },
    {
     "name": "stdout",
     "output_type": "stream",
     "text": [
      "[Training set] Epoch: 16, Average loss: 0.3026\n",
      "[Test set] Epoch: 16, Accuracy: 87.77%\n",
      "\n"
     ]
    },
    {
     "name": "stderr",
     "output_type": "stream",
     "text": [
      "100%|██████████████████████████████████████████████████████████████████████████████| 1444/1444 [01:03<00:00, 22.74it/s]\n"
     ]
    },
    {
     "name": "stdout",
     "output_type": "stream",
     "text": [
      "[Training set] Epoch: 17, Average loss: 0.2967\n",
      "[Test set] Epoch: 17, Accuracy: 87.79%\n",
      "\n"
     ]
    },
    {
     "name": "stderr",
     "output_type": "stream",
     "text": [
      "100%|██████████████████████████████████████████████████████████████████████████████| 1444/1444 [00:53<00:00, 26.84it/s]\n"
     ]
    },
    {
     "name": "stdout",
     "output_type": "stream",
     "text": [
      "[Training set] Epoch: 18, Average loss: 0.2926\n",
      "[Test set] Epoch: 18, Accuracy: 87.87%\n",
      "\n"
     ]
    },
    {
     "name": "stderr",
     "output_type": "stream",
     "text": [
      "100%|██████████████████████████████████████████████████████████████████████████████| 1444/1444 [01:00<00:00, 23.99it/s]\n"
     ]
    },
    {
     "name": "stdout",
     "output_type": "stream",
     "text": [
      "[Training set] Epoch: 19, Average loss: 0.2880\n",
      "[Test set] Epoch: 19, Accuracy: 88.04%\n",
      "\n"
     ]
    },
    {
     "name": "stderr",
     "output_type": "stream",
     "text": [
      "100%|██████████████████████████████████████████████████████████████████████████████| 1444/1444 [00:51<00:00, 28.08it/s]\n"
     ]
    },
    {
     "name": "stdout",
     "output_type": "stream",
     "text": [
      "[Training set] Epoch: 20, Average loss: 0.2836\n",
      "[Test set] Epoch: 20, Accuracy: 88.06%\n",
      "\n",
      "Finished Training\n"
     ]
    }
   ],
   "source": [
    "class MyArgs:\n",
    "    resume = False #\"./outputs/checkpoint.pth.tar\"\n",
    "    epochs = 20\n",
    "    lr = 0.002\n",
    "    batch_size = 128\n",
    "args = MyArgs()\n",
    "\n",
    "# main function for training and testing\n",
    "\n",
    "# set up random seed\n",
    "#torch.manual_seed(0)\n",
    "\n",
    "###################################\n",
    "# setup model, loss and optimizer #\n",
    "###################################\n",
    "\n",
    "model = LeNet()\n",
    "\n",
    "training_criterion = nn.CrossEntropyLoss()\n",
    "optimizer = optim.SGD(model.parameters(), lr=args.lr, momentum=0.9)\n",
    "# optim.Adam(model.parameters(), lr=args.lr)\n",
    "\n",
    "# set up transforms to transform the PIL Image to tensors\n",
    "train_transform = transforms.Compose([\n",
    "    transforms.ToTensor(),\n",
    "    transforms.RandomHorizontalFlip(),\n",
    "    transforms.Normalize(mean=[0.485, 0.456, 0.406],\n",
    "                         std=[0.229, 0.224, 0.225])\n",
    "])\n",
    "\n",
    "test_transform = transforms.Compose([\n",
    "    transforms.ToTensor(),\n",
    "    transforms.Normalize(mean=[0.485, 0.456, 0.406],\n",
    "                         std=[0.229, 0.224, 0.225])\n",
    "])\n",
    "\n",
    "################################\n",
    "# setup dataset and dataloader #\n",
    "################################\n",
    "\n",
    "train_loader = torch.utils.data.DataLoader(comb_train , batch_size=args.batch_size,shuffle=True )\n",
    "test_loader = torch.utils.data.DataLoader( comb_test , batch_size=args.batch_size,shuffle=True )\n",
    "\n",
    "################################\n",
    "# start the training           #\n",
    "################################\n",
    "# resume from a previous checkpoint\n",
    "best_acc = 0.0\n",
    "start_epoch = 0\n",
    "if args.resume:\n",
    "    if os.path.isfile(args.resume):\n",
    "        print(\"=> loading checkpoint '{:s}'\".format(args.resume))\n",
    "        checkpoint = torch.load(args.resume)\n",
    "        start_epoch = checkpoint['epoch']\n",
    "        best_acc = checkpoint['best_acc']\n",
    "        # load model weight\n",
    "        model.load_state_dict(checkpoint['state_dict'])\n",
    "        # load optimizer states\n",
    "        optimizer.load_state_dict(checkpoint['optimizer'])\n",
    "        print(\"=> loaded checkpoint '{:s}' (epoch {:d}, acc {:0.2f})\".format(\n",
    "            args.resume, checkpoint['epoch'], 100*best_acc))\n",
    "    else:\n",
    "        print(\"=> no checkpoint found at '{}'\".format(args.resume))\n",
    "\n",
    "# training of the model\n",
    "print(\"Training the model ...\\n\")\n",
    "for epoch in range(start_epoch, args.epochs):\n",
    "    # train model for 1 epoch\n",
    "    train_model(model, train_loader, optimizer, training_criterion, epoch)\n",
    "    # evaluate the model on test_set after this epoch\n",
    "    acc = test_model(model, test_loader, epoch)\n",
    "    # save the current checkpoint\n",
    "    save_checkpoint({\n",
    "        'epoch': epoch + 1,\n",
    "        'state_dict': model.state_dict(),\n",
    "        'best_acc' : max(best_acc, acc),\n",
    "        'optimizer' : optimizer.state_dict(),\n",
    "        }, (acc > best_acc))\n",
    "    best_acc = max(best_acc, acc)\n",
    "print(\"Finished Training\")"
   ]
  },
  {
   "cell_type": "code",
   "execution_count": null,
   "id": "2146856e-1a7d-4b67-aca8-914dbe116cad",
   "metadata": {},
   "outputs": [],
   "source": [
    "model"
   ]
  },
  {
   "cell_type": "code",
   "execution_count": null,
   "id": "3f0cef94-fd05-46ff-9b0c-e10725f9ed1e",
   "metadata": {},
   "outputs": [],
   "source": [
    "count_model_params() *1000000"
   ]
  },
  {
   "cell_type": "code",
   "execution_count": null,
   "id": "997e7b0e-be0a-4a20-9ea1-268239b10217",
   "metadata": {},
   "outputs": [],
   "source": []
  }
 ],
 "metadata": {
  "kernelspec": {
   "display_name": "Python 3 (ipykernel)",
   "language": "python",
   "name": "python3"
  },
  "language_info": {
   "codemirror_mode": {
    "name": "ipython",
    "version": 3
   },
   "file_extension": ".py",
   "mimetype": "text/x-python",
   "name": "python",
   "nbconvert_exporter": "python",
   "pygments_lexer": "ipython3",
   "version": "3.9.15"
  }
 },
 "nbformat": 4,
 "nbformat_minor": 5
}
